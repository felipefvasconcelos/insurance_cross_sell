{
 "cells": [
  {
   "cell_type": "markdown",
   "id": "148f0469",
   "metadata": {},
   "source": [
    "# 0.0 TOOLS "
   ]
  },
  {
   "cell_type": "markdown",
   "id": "874c33ed",
   "metadata": {
    "heading_collapsed": true
   },
   "source": [
    "## 0.1 Imports "
   ]
  },
  {
   "cell_type": "code",
   "execution_count": 62,
   "id": "83e69a38",
   "metadata": {
    "ExecuteTime": {
     "end_time": "2022-08-18T23:16:25.437567Z",
     "start_time": "2022-08-18T23:16:25.430746Z"
    },
    "hidden": true
   },
   "outputs": [],
   "source": [
    "import os\n",
    "import inflection\n",
    "import numpy as np\n",
    "import pandas as pd\n",
    "import seaborn as sns\n",
    "import psycopg2 as pg\n",
    "import matplotlib.pyplot   as plt\n",
    "\n",
    "from scipy                 import stats\n",
    "from IPython.display       import Image\n",
    "from IPython.core.display  import HTML\n",
    "from tabulate              import tabulate"
   ]
  },
  {
   "cell_type": "markdown",
   "id": "814917db",
   "metadata": {},
   "source": [
    "## 0.2. Loading Data "
   ]
  },
  {
   "cell_type": "markdown",
   "id": "b876c287",
   "metadata": {},
   "source": [
    "### 0.2.1. Load Data From CSV File"
   ]
  },
  {
   "cell_type": "code",
   "execution_count": 10,
   "id": "d0d50ed8",
   "metadata": {
    "ExecuteTime": {
     "end_time": "2022-08-18T22:54:11.621757Z",
     "start_time": "2022-08-18T22:54:10.824910Z"
    }
   },
   "outputs": [],
   "source": [
    "data = pd.read_csv('/home/felipe/repos/insurance_cross_sell/data/train.csv')"
   ]
  },
  {
   "cell_type": "markdown",
   "id": "85524eb0",
   "metadata": {
    "ExecuteTime": {
     "end_time": "2022-08-14T13:02:39.769748Z",
     "start_time": "2022-08-14T13:02:39.762923Z"
    }
   },
   "source": [
    "### 0.2.2. Load Data From DataBase"
   ]
  },
  {
   "cell_type": "code",
   "execution_count": 11,
   "id": "fa810201",
   "metadata": {
    "ExecuteTime": {
     "end_time": "2022-08-18T22:54:11.628771Z",
     "start_time": "2022-08-18T22:54:11.624400Z"
    }
   },
   "outputs": [],
   "source": [
    "# database credentials\n",
    "# host = 'comunidade-ds-postgres.c50pcakiuwi3.us-east-1.rds.amazonaws.com'\n",
    "# port = 5432\n",
    "# database = 'comunidadedsdb'\n",
    "# username = ''\n",
    "# password = ''"
   ]
  },
  {
   "cell_type": "code",
   "execution_count": 12,
   "id": "553dd509",
   "metadata": {
    "ExecuteTime": {
     "end_time": "2022-08-18T22:54:11.716658Z",
     "start_time": "2022-08-18T22:54:11.635015Z"
    }
   },
   "outputs": [],
   "source": [
    "# # creat connection with psycopg2\n",
    "# conn = pg.connect(user = username,\n",
    "#                   password = password,\n",
    "#                   host = host,\n",
    "#                   port = port,\n",
    "#                   database=database)"
   ]
  },
  {
   "cell_type": "code",
   "execution_count": 13,
   "id": "a8c529c9",
   "metadata": {
    "ExecuteTime": {
     "end_time": "2022-08-18T22:54:11.816266Z",
     "start_time": "2022-08-18T22:54:11.719304Z"
    }
   },
   "outputs": [],
   "source": [
    "# # check schemas in the database\n",
    "# query_schema = \"\"\"\n",
    "#     SELECT nspname\n",
    "#     FROM pg_catalog.pg_namespace\n",
    "# \"\"\"\n",
    "# schemas = pd.read_sql(query_schema, conn)\n",
    "# schemas"
   ]
  },
  {
   "cell_type": "code",
   "execution_count": 14,
   "id": "ddf8b256",
   "metadata": {
    "ExecuteTime": {
     "end_time": "2022-08-18T22:54:11.904361Z",
     "start_time": "2022-08-18T22:54:11.819549Z"
    }
   },
   "outputs": [],
   "source": [
    "# # check tables in pa004 schema\n",
    "# query_tables = \"\"\"\n",
    "#     SELECT tablename\n",
    "#     FROM pg_tables\n",
    "#     WHERE schemaname = 'pa004'\n",
    "# \"\"\"\n",
    "# tables = pd.read_sql(query_tables, conn)\n",
    "# tables"
   ]
  },
  {
   "cell_type": "code",
   "execution_count": 15,
   "id": "5298e3f7",
   "metadata": {
    "ExecuteTime": {
     "end_time": "2022-08-18T22:54:11.993534Z",
     "start_time": "2022-08-18T22:54:11.907336Z"
    }
   },
   "outputs": [],
   "source": [
    "# # query tables, merge date and create dataframe\n",
    "# query_data_raw = \"\"\"\n",
    "#     SELECT *\n",
    "#     FROM pa004.users u LEFT JOIN pa004.vehicle v ON (u.id = v.id)\n",
    "#                        LEFT JOIN pa004.insurance i ON (u.id = i.id)\n",
    "# \"\"\"\n",
    "# data_raw = pd.read_sql(query_data_raw, conn)\n",
    "# conn.close()\n",
    "# data_raw.columns = ['id', 'gender', 'age', 'region_code', 'policy_sales_channel', 'id_01', 'driving_license', \n",
    "#                     'vehicle_age', 'vehicle_damage', 'id_02','previously_insured', 'annual_premium', 'vintage', \n",
    "#                     'response']\n",
    "# data = data_raw.drop(data_raw.columns[[5,9]], axis=1)\n",
    "# data = data.sort_values(by='id', ascending=True)"
   ]
  },
  {
   "cell_type": "markdown",
   "id": "1ae77dab",
   "metadata": {
    "heading_collapsed": true
   },
   "source": [
    "## 0.3. Helper Functions"
   ]
  },
  {
   "cell_type": "code",
   "execution_count": 60,
   "id": "f6220850",
   "metadata": {
    "ExecuteTime": {
     "end_time": "2022-08-18T23:15:33.651427Z",
     "start_time": "2022-08-18T23:15:33.630434Z"
    },
    "hidden": true
   },
   "outputs": [],
   "source": [
    "def cramer_v (x, y):\n",
    "    cm = pd.crosstab(x, y).values\n",
    "    n = cm.sum()\n",
    "    r, k = cm.shape\n",
    "    \n",
    "    chi2 = stats.chi2_contingency(cm)[0]\n",
    "    chi2corr = max(0, chi2-(k-1)*(r-1)/(n-1))\n",
    "    \n",
    "    kcorr = k-(k-1)**2/(n-1)\n",
    "    rcorr = r-(r-1)**2/(n-1)\n",
    "    \n",
    "    return np.sqrt((chi2corr/n)/(min(kcorr-1, rcorr-1)))\n",
    "\n",
    "def corr_cramer_v(cat_attributes):\n",
    "    cat_attributes_list = cat_attributes.columns.tolist()\n",
    "\n",
    "    corr_dict={}\n",
    "\n",
    "    for i in range(len(cat_attributes_list)):\n",
    "        corr_list=[]\n",
    "        for j in range(len(cat_attributes_list)):\n",
    "            ref=cat_attributes_list[i]\n",
    "            feat=cat_attributes_list[j]\n",
    "            corr = cramer_v(cat_attributes[ref],cat_attributes[feat])\n",
    "            corr_list.append(corr)\n",
    "        corr_dict[ref]= corr_list\n",
    "    return corr_dict\n",
    "\n",
    "def jupyter_settings():\n",
    "    %matplotlib inline\n",
    "    #%pylab inline\n",
    "    \n",
    "    plt.style.use( 'bmh' )\n",
    "    plt.rcParams['figure.figsize'] = [25, 12]\n",
    "    plt.rcParams['font.size'] = 24\n",
    "    \n",
    "    display( HTML( '<style>.container { width:100% !important; }</style>') )\n",
    "    pd.options.display.max_columns = None\n",
    "    pd.options.display.max_rows = None\n",
    "    pd.set_option( 'display.expand_frame_repr', False )\n",
    "    \n",
    "    sns.set()"
   ]
  },
  {
   "cell_type": "code",
   "execution_count": 17,
   "id": "b5ec502c",
   "metadata": {
    "ExecuteTime": {
     "end_time": "2022-08-18T22:54:12.239977Z",
     "start_time": "2022-08-18T22:54:12.141819Z"
    },
    "hidden": true
   },
   "outputs": [
    {
     "data": {
      "text/html": [
       "<style>.container { width:100% !important; }</style>"
      ],
      "text/plain": [
       "<IPython.core.display.HTML object>"
      ]
     },
     "metadata": {},
     "output_type": "display_data"
    }
   ],
   "source": [
    "jupyter_settings()"
   ]
  },
  {
   "cell_type": "markdown",
   "id": "a0dd941e",
   "metadata": {
    "heading_collapsed": true
   },
   "source": [
    "# 1.0. DATA DESCRIPTION"
   ]
  },
  {
   "cell_type": "markdown",
   "id": "00c10f7a",
   "metadata": {
    "heading_collapsed": true,
    "hidden": true
   },
   "source": [
    "## 1.1. Copy Data Frame "
   ]
  },
  {
   "cell_type": "code",
   "execution_count": 18,
   "id": "e8fbd969",
   "metadata": {
    "ExecuteTime": {
     "end_time": "2022-08-18T22:54:12.331078Z",
     "start_time": "2022-08-18T22:54:12.248207Z"
    },
    "hidden": true
   },
   "outputs": [],
   "source": [
    "df1 = data.copy()"
   ]
  },
  {
   "cell_type": "code",
   "execution_count": 19,
   "id": "a20383d3",
   "metadata": {
    "ExecuteTime": {
     "end_time": "2022-08-18T22:54:12.431105Z",
     "start_time": "2022-08-18T22:54:12.334182Z"
    },
    "hidden": true
   },
   "outputs": [],
   "source": [
    "#rename columns\n",
    "df1.columns = map(str.lower, df1.columns)"
   ]
  },
  {
   "cell_type": "markdown",
   "id": "347e127a",
   "metadata": {
    "heading_collapsed": true,
    "hidden": true
   },
   "source": [
    "## 1.2. Data Dimensions"
   ]
  },
  {
   "cell_type": "code",
   "execution_count": 20,
   "id": "3db7a1ed",
   "metadata": {
    "ExecuteTime": {
     "end_time": "2022-08-18T22:54:12.526734Z",
     "start_time": "2022-08-18T22:54:12.436380Z"
    },
    "hidden": true
   },
   "outputs": [
    {
     "name": "stdout",
     "output_type": "stream",
     "text": [
      "Number of rows: 381109\n",
      "Number of cols: 12\n"
     ]
    }
   ],
   "source": [
    "# data dimenstions\n",
    "print('Number of rows: {}'.format(df1.shape[0]))\n",
    "print('Number of cols: {}'.format(df1.shape[1]))"
   ]
  },
  {
   "cell_type": "markdown",
   "id": "38d4cc3d",
   "metadata": {
    "heading_collapsed": true,
    "hidden": true
   },
   "source": [
    "## 1.3. Data Dtypes "
   ]
  },
  {
   "cell_type": "code",
   "execution_count": 21,
   "id": "94536301",
   "metadata": {
    "ExecuteTime": {
     "end_time": "2022-08-18T22:54:12.650512Z",
     "start_time": "2022-08-18T22:54:12.529415Z"
    },
    "hidden": true
   },
   "outputs": [
    {
     "data": {
      "text/plain": [
       "id                        int64\n",
       "gender                   object\n",
       "age                       int64\n",
       "driving_license           int64\n",
       "region_code             float64\n",
       "previously_insured        int64\n",
       "vehicle_age              object\n",
       "vehicle_damage           object\n",
       "annual_premium          float64\n",
       "policy_sales_channel    float64\n",
       "vintage                   int64\n",
       "response                  int64\n",
       "dtype: object"
      ]
     },
     "execution_count": 21,
     "metadata": {},
     "output_type": "execute_result"
    }
   ],
   "source": [
    "df1.dtypes"
   ]
  },
  {
   "cell_type": "code",
   "execution_count": 22,
   "id": "dca9d930",
   "metadata": {
    "ExecuteTime": {
     "end_time": "2022-08-18T22:54:12.748533Z",
     "start_time": "2022-08-18T22:54:12.654938Z"
    },
    "hidden": true
   },
   "outputs": [],
   "source": [
    "df1['region_code'] = df1['region_code'].astype('int')\n",
    "df1['policy_sales_channel'] = df1['policy_sales_channel'].astype('int')"
   ]
  },
  {
   "cell_type": "markdown",
   "id": "fc0107fd",
   "metadata": {
    "heading_collapsed": true,
    "hidden": true
   },
   "source": [
    "## 1.4. Check NAs"
   ]
  },
  {
   "cell_type": "code",
   "execution_count": 23,
   "id": "340e3a0c",
   "metadata": {
    "ExecuteTime": {
     "end_time": "2022-08-18T22:54:13.073261Z",
     "start_time": "2022-08-18T22:54:12.753466Z"
    },
    "hidden": true
   },
   "outputs": [
    {
     "data": {
      "text/plain": [
       "id                      0\n",
       "gender                  0\n",
       "age                     0\n",
       "driving_license         0\n",
       "region_code             0\n",
       "previously_insured      0\n",
       "vehicle_age             0\n",
       "vehicle_damage          0\n",
       "annual_premium          0\n",
       "policy_sales_channel    0\n",
       "vintage                 0\n",
       "response                0\n",
       "dtype: int64"
      ]
     },
     "execution_count": 23,
     "metadata": {},
     "output_type": "execute_result"
    }
   ],
   "source": [
    "df1.isna().sum()"
   ]
  },
  {
   "cell_type": "code",
   "execution_count": 24,
   "id": "41b1e443",
   "metadata": {
    "ExecuteTime": {
     "end_time": "2022-08-18T22:54:13.115683Z",
     "start_time": "2022-08-18T22:54:13.076478Z"
    },
    "hidden": true
   },
   "outputs": [
    {
     "data": {
      "text/plain": [
       "0"
      ]
     },
     "execution_count": 24,
     "metadata": {},
     "output_type": "execute_result"
    }
   ],
   "source": [
    "df1.duplicated(['id']).sum()"
   ]
  },
  {
   "cell_type": "markdown",
   "id": "1219fd23",
   "metadata": {
    "ExecuteTime": {
     "end_time": "2022-08-14T14:19:14.231578Z",
     "start_time": "2022-08-14T14:19:14.213260Z"
    },
    "heading_collapsed": true,
    "hidden": true
   },
   "source": [
    "## 1.5. Descriptive Statistics"
   ]
  },
  {
   "cell_type": "code",
   "execution_count": 25,
   "id": "f48cc7dc",
   "metadata": {
    "ExecuteTime": {
     "end_time": "2022-08-18T22:54:13.247251Z",
     "start_time": "2022-08-18T22:54:13.119471Z"
    },
    "hidden": true
   },
   "outputs": [
    {
     "data": {
      "text/html": [
       "<div>\n",
       "<style scoped>\n",
       "    .dataframe tbody tr th:only-of-type {\n",
       "        vertical-align: middle;\n",
       "    }\n",
       "\n",
       "    .dataframe tbody tr th {\n",
       "        vertical-align: top;\n",
       "    }\n",
       "\n",
       "    .dataframe thead th {\n",
       "        text-align: right;\n",
       "    }\n",
       "</style>\n",
       "<table border=\"1\" class=\"dataframe\">\n",
       "  <thead>\n",
       "    <tr style=\"text-align: right;\">\n",
       "      <th></th>\n",
       "      <th>id</th>\n",
       "      <th>gender</th>\n",
       "      <th>age</th>\n",
       "      <th>driving_license</th>\n",
       "      <th>region_code</th>\n",
       "      <th>previously_insured</th>\n",
       "      <th>vehicle_age</th>\n",
       "      <th>vehicle_damage</th>\n",
       "      <th>annual_premium</th>\n",
       "      <th>policy_sales_channel</th>\n",
       "      <th>vintage</th>\n",
       "      <th>response</th>\n",
       "    </tr>\n",
       "  </thead>\n",
       "  <tbody>\n",
       "    <tr>\n",
       "      <th>0</th>\n",
       "      <td>1</td>\n",
       "      <td>Male</td>\n",
       "      <td>44</td>\n",
       "      <td>1</td>\n",
       "      <td>28</td>\n",
       "      <td>0</td>\n",
       "      <td>&gt; 2 Years</td>\n",
       "      <td>Yes</td>\n",
       "      <td>40454.0</td>\n",
       "      <td>26</td>\n",
       "      <td>217</td>\n",
       "      <td>1</td>\n",
       "    </tr>\n",
       "    <tr>\n",
       "      <th>1</th>\n",
       "      <td>2</td>\n",
       "      <td>Male</td>\n",
       "      <td>76</td>\n",
       "      <td>1</td>\n",
       "      <td>3</td>\n",
       "      <td>0</td>\n",
       "      <td>1-2 Year</td>\n",
       "      <td>No</td>\n",
       "      <td>33536.0</td>\n",
       "      <td>26</td>\n",
       "      <td>183</td>\n",
       "      <td>0</td>\n",
       "    </tr>\n",
       "    <tr>\n",
       "      <th>2</th>\n",
       "      <td>3</td>\n",
       "      <td>Male</td>\n",
       "      <td>47</td>\n",
       "      <td>1</td>\n",
       "      <td>28</td>\n",
       "      <td>0</td>\n",
       "      <td>&gt; 2 Years</td>\n",
       "      <td>Yes</td>\n",
       "      <td>38294.0</td>\n",
       "      <td>26</td>\n",
       "      <td>27</td>\n",
       "      <td>1</td>\n",
       "    </tr>\n",
       "    <tr>\n",
       "      <th>3</th>\n",
       "      <td>4</td>\n",
       "      <td>Male</td>\n",
       "      <td>21</td>\n",
       "      <td>1</td>\n",
       "      <td>11</td>\n",
       "      <td>1</td>\n",
       "      <td>&lt; 1 Year</td>\n",
       "      <td>No</td>\n",
       "      <td>28619.0</td>\n",
       "      <td>152</td>\n",
       "      <td>203</td>\n",
       "      <td>0</td>\n",
       "    </tr>\n",
       "    <tr>\n",
       "      <th>4</th>\n",
       "      <td>5</td>\n",
       "      <td>Female</td>\n",
       "      <td>29</td>\n",
       "      <td>1</td>\n",
       "      <td>41</td>\n",
       "      <td>1</td>\n",
       "      <td>&lt; 1 Year</td>\n",
       "      <td>No</td>\n",
       "      <td>27496.0</td>\n",
       "      <td>152</td>\n",
       "      <td>39</td>\n",
       "      <td>0</td>\n",
       "    </tr>\n",
       "  </tbody>\n",
       "</table>\n",
       "</div>"
      ],
      "text/plain": [
       "   id  gender  age  driving_license  region_code  previously_insured vehicle_age vehicle_damage  annual_premium  policy_sales_channel  vintage  response\n",
       "0   1    Male   44                1           28                   0   > 2 Years            Yes         40454.0                    26      217         1\n",
       "1   2    Male   76                1            3                   0    1-2 Year             No         33536.0                    26      183         0\n",
       "2   3    Male   47                1           28                   0   > 2 Years            Yes         38294.0                    26       27         1\n",
       "3   4    Male   21                1           11                   1    < 1 Year             No         28619.0                   152      203         0\n",
       "4   5  Female   29                1           41                   1    < 1 Year             No         27496.0                   152       39         0"
      ]
     },
     "execution_count": 25,
     "metadata": {},
     "output_type": "execute_result"
    }
   ],
   "source": [
    "df1.head()"
   ]
  },
  {
   "cell_type": "code",
   "execution_count": 26,
   "id": "5bcff648",
   "metadata": {
    "ExecuteTime": {
     "end_time": "2022-08-18T22:54:13.423513Z",
     "start_time": "2022-08-18T22:54:13.250409Z"
    },
    "hidden": true
   },
   "outputs": [],
   "source": [
    "num_attributes = df1[['age', 'annual_premium', 'vintage']]\n",
    "cat_attributes = df1[['gender', 'driving_license', 'region_code', 'previously_insured', 'vehicle_age', 'vehicle_damage',\n",
    "                     'policy_sales_channel']]\n",
    "target_attributes = df1['response']"
   ]
  },
  {
   "cell_type": "markdown",
   "id": "91bb4dcf",
   "metadata": {
    "hidden": true
   },
   "source": [
    "### 1.5.1. Numerical Attributes"
   ]
  },
  {
   "cell_type": "code",
   "execution_count": 27,
   "id": "36d4d399",
   "metadata": {
    "ExecuteTime": {
     "end_time": "2022-08-18T22:54:13.514469Z",
     "start_time": "2022-08-18T22:54:13.426008Z"
    },
    "hidden": true
   },
   "outputs": [],
   "source": [
    "# central tendency - mean, median\n",
    "ct1 = pd.DataFrame(num_attributes.apply(np.mean)).T\n",
    "ct2 = pd.DataFrame(num_attributes.apply(np.median)).T"
   ]
  },
  {
   "cell_type": "code",
   "execution_count": 28,
   "id": "195e0848",
   "metadata": {
    "ExecuteTime": {
     "end_time": "2022-08-18T22:54:13.735319Z",
     "start_time": "2022-08-18T22:54:13.517012Z"
    },
    "hidden": true
   },
   "outputs": [],
   "source": [
    "# dispersion: std, min, max, range, skew, kurtosis\n",
    "d1 = pd.DataFrame(num_attributes.apply(np.std)).T\n",
    "d2 = pd.DataFrame(num_attributes.apply(np.min)).T\n",
    "d3 = pd.DataFrame(num_attributes.apply(np.max)).T\n",
    "d4 = pd.DataFrame(num_attributes.apply(lambda x: x.max() - x.min())).T\n",
    "d5 = pd.DataFrame(num_attributes.apply(lambda x: x.skew())).T\n",
    "d6 = pd.DataFrame(num_attributes.apply(lambda x: x.kurtosis())).T"
   ]
  },
  {
   "cell_type": "code",
   "execution_count": 29,
   "id": "c1249572",
   "metadata": {
    "ExecuteTime": {
     "end_time": "2022-08-18T22:54:13.774847Z",
     "start_time": "2022-08-18T22:54:13.740250Z"
    },
    "hidden": true
   },
   "outputs": [],
   "source": [
    "num_statics = pd.concat([d2, d3, d4, ct1, ct2, d1, d5, d6]).T.reset_index()\n",
    "num_statics.columns = ['attribute', 'min', 'max', 'range', 'mean', 'median', 'std', 'skew', 'kurtosis']"
   ]
  },
  {
   "cell_type": "code",
   "execution_count": 30,
   "id": "8950a41e",
   "metadata": {
    "ExecuteTime": {
     "end_time": "2022-08-18T22:54:13.881941Z",
     "start_time": "2022-08-18T22:54:13.777781Z"
    },
    "hidden": true
   },
   "outputs": [
    {
     "data": {
      "text/html": [
       "<div>\n",
       "<style scoped>\n",
       "    .dataframe tbody tr th:only-of-type {\n",
       "        vertical-align: middle;\n",
       "    }\n",
       "\n",
       "    .dataframe tbody tr th {\n",
       "        vertical-align: top;\n",
       "    }\n",
       "\n",
       "    .dataframe thead th {\n",
       "        text-align: right;\n",
       "    }\n",
       "</style>\n",
       "<table border=\"1\" class=\"dataframe\">\n",
       "  <thead>\n",
       "    <tr style=\"text-align: right;\">\n",
       "      <th></th>\n",
       "      <th>attribute</th>\n",
       "      <th>min</th>\n",
       "      <th>max</th>\n",
       "      <th>range</th>\n",
       "      <th>mean</th>\n",
       "      <th>median</th>\n",
       "      <th>std</th>\n",
       "      <th>skew</th>\n",
       "      <th>kurtosis</th>\n",
       "    </tr>\n",
       "  </thead>\n",
       "  <tbody>\n",
       "    <tr>\n",
       "      <th>0</th>\n",
       "      <td>age</td>\n",
       "      <td>20.0</td>\n",
       "      <td>85.0</td>\n",
       "      <td>65.0</td>\n",
       "      <td>38.822584</td>\n",
       "      <td>36.0</td>\n",
       "      <td>15.511591</td>\n",
       "      <td>0.672539</td>\n",
       "      <td>-0.565655</td>\n",
       "    </tr>\n",
       "    <tr>\n",
       "      <th>1</th>\n",
       "      <td>annual_premium</td>\n",
       "      <td>2630.0</td>\n",
       "      <td>540165.0</td>\n",
       "      <td>537535.0</td>\n",
       "      <td>30564.389581</td>\n",
       "      <td>31669.0</td>\n",
       "      <td>17213.132474</td>\n",
       "      <td>1.766087</td>\n",
       "      <td>34.004569</td>\n",
       "    </tr>\n",
       "    <tr>\n",
       "      <th>2</th>\n",
       "      <td>vintage</td>\n",
       "      <td>10.0</td>\n",
       "      <td>299.0</td>\n",
       "      <td>289.0</td>\n",
       "      <td>154.347397</td>\n",
       "      <td>154.0</td>\n",
       "      <td>83.671194</td>\n",
       "      <td>0.003030</td>\n",
       "      <td>-1.200688</td>\n",
       "    </tr>\n",
       "  </tbody>\n",
       "</table>\n",
       "</div>"
      ],
      "text/plain": [
       "        attribute     min       max     range          mean   median           std      skew   kurtosis\n",
       "0             age    20.0      85.0      65.0     38.822584     36.0     15.511591  0.672539  -0.565655\n",
       "1  annual_premium  2630.0  540165.0  537535.0  30564.389581  31669.0  17213.132474  1.766087  34.004569\n",
       "2         vintage    10.0     299.0     289.0    154.347397    154.0     83.671194  0.003030  -1.200688"
      ]
     },
     "execution_count": 30,
     "metadata": {},
     "output_type": "execute_result"
    }
   ],
   "source": [
    "num_statics"
   ]
  },
  {
   "cell_type": "markdown",
   "id": "68a0666a",
   "metadata": {
    "ExecuteTime": {
     "end_time": "2022-08-14T19:11:42.808260Z",
     "start_time": "2022-08-14T19:11:42.784219Z"
    },
    "hidden": true
   },
   "source": [
    "### 1.5.2. Categorical Attributes"
   ]
  },
  {
   "cell_type": "code",
   "execution_count": 31,
   "id": "118b6b87",
   "metadata": {
    "ExecuteTime": {
     "end_time": "2022-08-18T22:54:14.078252Z",
     "start_time": "2022-08-18T22:54:13.887273Z"
    },
    "hidden": true
   },
   "outputs": [
    {
     "data": {
      "text/plain": [
       "gender                    2\n",
       "driving_license           2\n",
       "region_code              53\n",
       "previously_insured        2\n",
       "vehicle_age               3\n",
       "vehicle_damage            2\n",
       "policy_sales_channel    155\n",
       "dtype: int64"
      ]
     },
     "execution_count": 31,
     "metadata": {},
     "output_type": "execute_result"
    }
   ],
   "source": [
    "cat_attributes.apply(lambda x: x.unique().shape[0])"
   ]
  },
  {
   "cell_type": "markdown",
   "id": "55779ed0",
   "metadata": {
    "heading_collapsed": true
   },
   "source": [
    "# 2. FEATURE ENGINEERING"
   ]
  },
  {
   "cell_type": "markdown",
   "id": "076cfdcb",
   "metadata": {
    "heading_collapsed": true,
    "hidden": true
   },
   "source": [
    "## 2.0. Copy Data Frame"
   ]
  },
  {
   "cell_type": "code",
   "execution_count": 32,
   "id": "545eb9eb",
   "metadata": {
    "ExecuteTime": {
     "end_time": "2022-08-18T22:54:14.101339Z",
     "start_time": "2022-08-18T22:54:14.082810Z"
    },
    "hidden": true
   },
   "outputs": [],
   "source": [
    "df2 = df1.copy()"
   ]
  },
  {
   "cell_type": "markdown",
   "id": "fa0d05bb",
   "metadata": {
    "heading_collapsed": true,
    "hidden": true
   },
   "source": [
    "## 2.1. Making Hypotesis"
   ]
  },
  {
   "cell_type": "markdown",
   "id": "04b7e827",
   "metadata": {
    "hidden": true
   },
   "source": [
    "**1.** Male customers have more damaged vehicles\n",
    "\n",
    "**2.** Male customers are more interested in buy vehicle insurance\n",
    "\n",
    "**3.** Customers that pay less annual premium are more interested in buy vehicle insurance\n",
    "\n",
    "**4.** Long time period customers are more insterested in buy vehicle insurance\n",
    "\n",
    "**5.** Customers older than 36 are more interested in buy vehicle insurance\n",
    "\n",
    "**6.** Customers with damaged vehicles are more interested in buy vehicle insurance\n",
    "\n",
    "**7.** Customars with newer vehicles are more interested in buy vehicle insurance\n",
    "\n",
    "**8.** Customers without driver license have no interest in buy vehicle insurance\n",
    "\n",
    "**9.** Customers region code have no influence in the interest they have in buying vehicle insurance\n",
    "\n",
    "**10.** Customers policy_sales_channel have no influence in the interest they have in buying vehicle insurance"
   ]
  },
  {
   "cell_type": "markdown",
   "id": "c093b1a8",
   "metadata": {
    "hidden": true
   },
   "source": [
    "## 2.2. Feature Engineering"
   ]
  },
  {
   "cell_type": "code",
   "execution_count": 33,
   "id": "05945c45",
   "metadata": {
    "ExecuteTime": {
     "end_time": "2022-08-18T22:54:14.538826Z",
     "start_time": "2022-08-18T22:54:14.105014Z"
    },
    "hidden": true
   },
   "outputs": [],
   "source": [
    "df2['gender'] = df2['gender'].apply(lambda x: 'm' if x=='Male' else 'f')\n",
    "df2['vehicle_age'] = df2['vehicle_age'].apply(lambda x: 'over_2_years' if x=='> 2 Years' else\n",
    "                                                        '1_to_2_years' if x== '1-2 Year' else\n",
    "                                                        'below_1_year')\n",
    "df2['vehicle_damage'] = df2['vehicle_damage'].apply(lambda x: 1 if x=='Yes' else 0)"
   ]
  },
  {
   "cell_type": "markdown",
   "id": "6a2e997b",
   "metadata": {
    "heading_collapsed": true
   },
   "source": [
    "# 3. DATA FILTERING"
   ]
  },
  {
   "cell_type": "markdown",
   "id": "312a965d",
   "metadata": {
    "heading_collapsed": true,
    "hidden": true
   },
   "source": [
    "## 3.0. Copy Data Frame"
   ]
  },
  {
   "cell_type": "code",
   "execution_count": 34,
   "id": "d2a13509",
   "metadata": {
    "ExecuteTime": {
     "end_time": "2022-08-18T22:54:14.593635Z",
     "start_time": "2022-08-18T22:54:14.541312Z"
    },
    "hidden": true
   },
   "outputs": [],
   "source": [
    "df3 = df2.copy()"
   ]
  },
  {
   "cell_type": "markdown",
   "id": "0e209e55",
   "metadata": {
    "hidden": true
   },
   "source": [
    "## 3.1. Create Auxiliary DataFrames for Target Variable"
   ]
  },
  {
   "cell_type": "code",
   "execution_count": 35,
   "id": "08c87473",
   "metadata": {
    "ExecuteTime": {
     "end_time": "2022-08-18T22:54:14.684310Z",
     "start_time": "2022-08-18T22:54:14.597376Z"
    },
    "hidden": true
   },
   "outputs": [],
   "source": [
    "no_buy = df3[df3['response'] == 0]\n",
    "buy = df3[df3['response'] == 1]"
   ]
  },
  {
   "cell_type": "markdown",
   "id": "e93820a3",
   "metadata": {
    "heading_collapsed": true
   },
   "source": [
    "# 4. EXPLORATORY DATA ANALYSIS"
   ]
  },
  {
   "cell_type": "markdown",
   "id": "568598f6",
   "metadata": {
    "heading_collapsed": true,
    "hidden": true
   },
   "source": [
    "## 4.0. Copy Data Frame"
   ]
  },
  {
   "cell_type": "code",
   "execution_count": 36,
   "id": "55cd6093",
   "metadata": {
    "ExecuteTime": {
     "end_time": "2022-08-18T22:54:14.784283Z",
     "start_time": "2022-08-18T22:54:14.693134Z"
    },
    "hidden": true
   },
   "outputs": [],
   "source": [
    "df4 = df3.copy()"
   ]
  },
  {
   "cell_type": "markdown",
   "id": "ecc53816",
   "metadata": {
    "heading_collapsed": true,
    "hidden": true
   },
   "source": [
    "## 4.1. Univariate Analysis"
   ]
  },
  {
   "cell_type": "markdown",
   "id": "9cc9176a",
   "metadata": {
    "heading_collapsed": true,
    "hidden": true
   },
   "source": [
    "### 4.1.1. Response Variable"
   ]
  },
  {
   "cell_type": "code",
   "execution_count": 37,
   "id": "a363f1bb",
   "metadata": {
    "ExecuteTime": {
     "end_time": "2022-08-18T22:54:15.425714Z",
     "start_time": "2022-08-18T22:54:14.787191Z"
    },
    "hidden": true
   },
   "outputs": [
    {
     "data": {
      "image/png": "[encoded data removed]",
      "text/plain": [
       "<Figure size 1800x864 with 1 Axes>"
      ]
     },
     "metadata": {},
     "output_type": "display_data"
    }
   ],
   "source": [
    "sns.countplot(x='response', data=df1);"
   ]
  },
  {
   "cell_type": "markdown",
   "id": "4941fdb2",
   "metadata": {
    "heading_collapsed": true,
    "hidden": true
   },
   "source": [
    "### 4.1.2. Numerical Variables"
   ]
  },
  {
   "cell_type": "code",
   "execution_count": 38,
   "id": "bc753b65",
   "metadata": {
    "ExecuteTime": {
     "end_time": "2022-08-18T22:54:16.624257Z",
     "start_time": "2022-08-18T22:54:15.432044Z"
    },
    "hidden": true
   },
   "outputs": [
    {
     "data": {
      "image/png": "[encoded data removed]",
      "text/plain": [
       "<Figure size 1800x864 with 4 Axes>"
      ]
     },
     "metadata": {},
     "output_type": "display_data"
    }
   ],
   "source": [
    "num_attributes.hist(bins=30);"
   ]
  },
  {
   "cell_type": "markdown",
   "id": "e723da95",
   "metadata": {
    "ExecuteTime": {
     "end_time": "2022-08-17T01:11:18.379442Z",
     "start_time": "2022-08-17T01:11:18.376549Z"
    },
    "heading_collapsed": true,
    "hidden": true
   },
   "source": [
    "### 4.1.3. Categorical Variables"
   ]
  },
  {
   "cell_type": "code",
   "execution_count": 39,
   "id": "812b1208",
   "metadata": {
    "ExecuteTime": {
     "end_time": "2022-08-18T22:54:19.687278Z",
     "start_time": "2022-08-18T22:54:16.627872Z"
    },
    "hidden": true
   },
   "outputs": [
    {
     "data": {
      "image/png": "[encoded data removed]",
      "text/plain": [
       "<Figure size 1800x864 with 6 Axes>"
      ]
     },
     "metadata": {},
     "output_type": "display_data"
    }
   ],
   "source": [
    "plt.subplot(2,3,1)\n",
    "sns.countplot(x='gender', data=cat_attributes);\n",
    "\n",
    "plt.subplot(2,3,2)\n",
    "sns.countplot(x='driving_license', data=cat_attributes);\n",
    "\n",
    "plt.subplot(2,3,3)\n",
    "sns.countplot(x='region_code', data=cat_attributes);\n",
    "plt.xticks(rotation=90)\n",
    "\n",
    "plt.subplot(2,3,4)\n",
    "sns.countplot(x='previously_insured', data=cat_attributes);\n",
    "\n",
    "plt.subplot(2,3,5)\n",
    "sns.countplot(x='vehicle_age', data=cat_attributes);\n",
    "\n",
    "plt.subplot(2,3,6)\n",
    "sns.countplot(x='vehicle_damage', data=cat_attributes);"
   ]
  },
  {
   "cell_type": "markdown",
   "id": "20c4d915",
   "metadata": {
    "heading_collapsed": true,
    "hidden": true
   },
   "source": [
    "## 4.2. Bivariate Analysis"
   ]
  },
  {
   "cell_type": "markdown",
   "id": "5569c965",
   "metadata": {
    "heading_collapsed": true,
    "hidden": true
   },
   "source": [
    "### **1.** Male customers have more damaged vehicles \n",
    "**True** 55% m vs 46% f"
   ]
  },
  {
   "cell_type": "code",
   "execution_count": 40,
   "id": "636ab06d",
   "metadata": {
    "ExecuteTime": {
     "end_time": "2022-08-18T22:54:20.094593Z",
     "start_time": "2022-08-18T22:54:19.689764Z"
    },
    "hidden": true
   },
   "outputs": [
    {
     "data": {
      "image/png": "[encoded data removed]",
      "text/plain": [
       "<Figure size 1800x864 with 1 Axes>"
      ]
     },
     "metadata": {},
     "output_type": "display_data"
    }
   ],
   "source": [
    "h1 = df4[['gender', 'vehicle_damage']].groupby('gender').sum().reset_index()\n",
    "sns.barplot(x='gender', y='vehicle_damage', data=h1);"
   ]
  },
  {
   "cell_type": "code",
   "execution_count": 41,
   "id": "9ddbd7f2",
   "metadata": {
    "ExecuteTime": {
     "end_time": "2022-08-18T22:54:20.196827Z",
     "start_time": "2022-08-18T22:54:20.098066Z"
    },
    "hidden": true
   },
   "outputs": [
    {
     "data": {
      "text/html": [
       "<div>\n",
       "<style scoped>\n",
       "    .dataframe tbody tr th:only-of-type {\n",
       "        vertical-align: middle;\n",
       "    }\n",
       "\n",
       "    .dataframe tbody tr th {\n",
       "        vertical-align: top;\n",
       "    }\n",
       "\n",
       "    .dataframe thead th {\n",
       "        text-align: right;\n",
       "    }\n",
       "</style>\n",
       "<table border=\"1\" class=\"dataframe\">\n",
       "  <thead>\n",
       "    <tr style=\"text-align: right;\">\n",
       "      <th>vehicle_damage</th>\n",
       "      <th>0</th>\n",
       "      <th>1</th>\n",
       "      <th>percentage</th>\n",
       "    </tr>\n",
       "    <tr>\n",
       "      <th>gender</th>\n",
       "      <th></th>\n",
       "      <th></th>\n",
       "      <th></th>\n",
       "    </tr>\n",
       "  </thead>\n",
       "  <tbody>\n",
       "    <tr>\n",
       "      <th>f</th>\n",
       "      <td>95355</td>\n",
       "      <td>79665</td>\n",
       "      <td>0.455177</td>\n",
       "    </tr>\n",
       "    <tr>\n",
       "      <th>m</th>\n",
       "      <td>93341</td>\n",
       "      <td>112748</td>\n",
       "      <td>0.547084</td>\n",
       "    </tr>\n",
       "  </tbody>\n",
       "</table>\n",
       "</div>"
      ],
      "text/plain": [
       "vehicle_damage      0       1  percentage\n",
       "gender                                   \n",
       "f               95355   79665    0.455177\n",
       "m               93341  112748    0.547084"
      ]
     },
     "execution_count": 41,
     "metadata": {},
     "output_type": "execute_result"
    }
   ],
   "source": [
    "aux_h1 = pd.crosstab(df4['gender'], df4['vehicle_damage'])\n",
    "aux_h1['percentage'] = aux_h1[1]/(aux_h1[1]+aux_h1[0])\n",
    "aux_h1"
   ]
  },
  {
   "cell_type": "markdown",
   "id": "9f7148d5",
   "metadata": {
    "heading_collapsed": true,
    "hidden": true
   },
   "source": [
    "### **2.** Male customers are more interested in buy vehicle insurance\n",
    "**True** 14% m vs 10% f"
   ]
  },
  {
   "cell_type": "code",
   "execution_count": 42,
   "id": "8d890f83",
   "metadata": {
    "ExecuteTime": {
     "end_time": "2022-08-18T22:54:20.492495Z",
     "start_time": "2022-08-18T22:54:20.199958Z"
    },
    "hidden": true
   },
   "outputs": [
    {
     "data": {
      "image/png": "[encoded data removed]",
      "text/plain": [
       "<Figure size 1800x864 with 1 Axes>"
      ]
     },
     "metadata": {},
     "output_type": "display_data"
    }
   ],
   "source": [
    "h2 = df4[['gender', 'response']].groupby('gender').sum().reset_index()\n",
    "sns.barplot(x='gender', y='response', data=h2);"
   ]
  },
  {
   "cell_type": "code",
   "execution_count": 43,
   "id": "6f4089aa",
   "metadata": {
    "ExecuteTime": {
     "end_time": "2022-08-18T22:54:20.556370Z",
     "start_time": "2022-08-18T22:54:20.496187Z"
    },
    "hidden": true
   },
   "outputs": [
    {
     "data": {
      "text/html": [
       "<div>\n",
       "<style scoped>\n",
       "    .dataframe tbody tr th:only-of-type {\n",
       "        vertical-align: middle;\n",
       "    }\n",
       "\n",
       "    .dataframe tbody tr th {\n",
       "        vertical-align: top;\n",
       "    }\n",
       "\n",
       "    .dataframe thead th {\n",
       "        text-align: right;\n",
       "    }\n",
       "</style>\n",
       "<table border=\"1\" class=\"dataframe\">\n",
       "  <thead>\n",
       "    <tr style=\"text-align: right;\">\n",
       "      <th>response</th>\n",
       "      <th>0</th>\n",
       "      <th>1</th>\n",
       "      <th>percentage</th>\n",
       "    </tr>\n",
       "    <tr>\n",
       "      <th>gender</th>\n",
       "      <th></th>\n",
       "      <th></th>\n",
       "      <th></th>\n",
       "    </tr>\n",
       "  </thead>\n",
       "  <tbody>\n",
       "    <tr>\n",
       "      <th>f</th>\n",
       "      <td>156835</td>\n",
       "      <td>18185</td>\n",
       "      <td>0.103902</td>\n",
       "    </tr>\n",
       "    <tr>\n",
       "      <th>m</th>\n",
       "      <td>177564</td>\n",
       "      <td>28525</td>\n",
       "      <td>0.138411</td>\n",
       "    </tr>\n",
       "  </tbody>\n",
       "</table>\n",
       "</div>"
      ],
      "text/plain": [
       "response       0      1  percentage\n",
       "gender                             \n",
       "f         156835  18185    0.103902\n",
       "m         177564  28525    0.138411"
      ]
     },
     "execution_count": 43,
     "metadata": {},
     "output_type": "execute_result"
    }
   ],
   "source": [
    "aux_h2 = pd.crosstab(df4['gender'], df4['response'])\n",
    "aux_h2['percentage'] = aux_h2[1]/(aux_h2[1]+aux_h2[0])\n",
    "aux_h2"
   ]
  },
  {
   "cell_type": "markdown",
   "id": "e098b77e",
   "metadata": {
    "heading_collapsed": true,
    "hidden": true
   },
   "source": [
    "### **3.** Customers that pay less annual premium are more interested in buy vehicle insurance\n",
    "**False** - There are no significant difference"
   ]
  },
  {
   "cell_type": "code",
   "execution_count": 44,
   "id": "a74f7326",
   "metadata": {
    "ExecuteTime": {
     "end_time": "2022-08-18T22:54:21.810866Z",
     "start_time": "2022-08-18T22:54:20.558933Z"
    },
    "hidden": true
   },
   "outputs": [
    {
     "data": {
      "image/png": "[encoded data removed]",
      "text/plain": [
       "<Figure size 1800x864 with 4 Axes>"
      ]
     },
     "metadata": {},
     "output_type": "display_data"
    }
   ],
   "source": [
    "plt.subplot(2,2,1)\n",
    "sns.histplot(x='annual_premium', bins=50, data=buy);\n",
    "\n",
    "plt.subplot(2,2,3)\n",
    "sns.histplot(x='annual_premium', bins=50, data=no_buy);\n",
    "\n",
    "plt.subplot(2,2,2)\n",
    "sns.boxplot(x='response', y='annual_premium', data=df4);\n",
    "\n",
    "h3 = df4[['response', 'annual_premium']].groupby('response').mean().reset_index()\n",
    "\n",
    "plt.subplot(2,2,4)\n",
    "sns.barplot(x='response', y='annual_premium', data=h3);"
   ]
  },
  {
   "cell_type": "markdown",
   "id": "61925b95",
   "metadata": {
    "heading_collapsed": true,
    "hidden": true
   },
   "source": [
    "### **4.** Long time period customers are more insterested in buy vehicle insurance\n",
    "**False** - There are no significant difference"
   ]
  },
  {
   "cell_type": "code",
   "execution_count": 45,
   "id": "be3f384a",
   "metadata": {
    "ExecuteTime": {
     "end_time": "2022-08-18T22:54:22.944625Z",
     "start_time": "2022-08-18T22:54:21.814405Z"
    },
    "hidden": true
   },
   "outputs": [
    {
     "data": {
      "image/png": "[encoded data removed]",
      "text/plain": [
       "<Figure size 1800x864 with 4 Axes>"
      ]
     },
     "metadata": {},
     "output_type": "display_data"
    }
   ],
   "source": [
    "plt.subplot(2,2,1)\n",
    "sns.histplot(x='vintage', bins=50, data=buy);\n",
    "\n",
    "plt.subplot(2,2,3)\n",
    "sns.histplot(x='vintage', bins=50, data=no_buy);\n",
    "\n",
    "plt.subplot(2,2,2)\n",
    "sns.boxplot(x='response', y='vintage', data=df4);\n",
    "\n",
    "h4 = df4[['response', 'vintage']].groupby('response').mean().reset_index()\n",
    "\n",
    "plt.subplot(2,2,4)\n",
    "sns.barplot(x='response', y='vintage', data=h4);"
   ]
  },
  {
   "cell_type": "code",
   "execution_count": null,
   "id": "0db34987",
   "metadata": {
    "hidden": true
   },
   "outputs": [],
   "source": []
  },
  {
   "cell_type": "code",
   "execution_count": null,
   "id": "77c29430",
   "metadata": {
    "hidden": true
   },
   "outputs": [],
   "source": []
  },
  {
   "cell_type": "code",
   "execution_count": null,
   "id": "de286749",
   "metadata": {
    "hidden": true
   },
   "outputs": [],
   "source": []
  },
  {
   "cell_type": "markdown",
   "id": "2154f55b",
   "metadata": {
    "heading_collapsed": true,
    "hidden": true
   },
   "source": [
    "### **5.** Customers older than 36 are more interested in buy vehicle insurance\n",
    "**True** 18% over 36 customer vs 7% under 36 customers"
   ]
  },
  {
   "cell_type": "code",
   "execution_count": 46,
   "id": "1416eb47",
   "metadata": {
    "ExecuteTime": {
     "end_time": "2022-08-18T22:54:22.971545Z",
     "start_time": "2022-08-18T22:54:22.947146Z"
    },
    "hidden": true
   },
   "outputs": [
    {
     "data": {
      "text/html": [
       "<div>\n",
       "<style scoped>\n",
       "    .dataframe tbody tr th:only-of-type {\n",
       "        vertical-align: middle;\n",
       "    }\n",
       "\n",
       "    .dataframe tbody tr th {\n",
       "        vertical-align: top;\n",
       "    }\n",
       "\n",
       "    .dataframe thead th {\n",
       "        text-align: right;\n",
       "    }\n",
       "</style>\n",
       "<table border=\"1\" class=\"dataframe\">\n",
       "  <thead>\n",
       "    <tr style=\"text-align: right;\">\n",
       "      <th></th>\n",
       "      <th>response</th>\n",
       "      <th>age</th>\n",
       "    </tr>\n",
       "  </thead>\n",
       "  <tbody>\n",
       "    <tr>\n",
       "      <th>0</th>\n",
       "      <td>0</td>\n",
       "      <td>38.178227</td>\n",
       "    </tr>\n",
       "    <tr>\n",
       "      <th>1</th>\n",
       "      <td>1</td>\n",
       "      <td>43.435560</td>\n",
       "    </tr>\n",
       "  </tbody>\n",
       "</table>\n",
       "</div>"
      ],
      "text/plain": [
       "   response        age\n",
       "0         0  38.178227\n",
       "1         1  43.435560"
      ]
     },
     "execution_count": 46,
     "metadata": {},
     "output_type": "execute_result"
    }
   ],
   "source": [
    "aux1 = df4[['age', 'response']].groupby('response').mean().reset_index()\n",
    "aux1"
   ]
  },
  {
   "cell_type": "code",
   "execution_count": 47,
   "id": "c296c55b",
   "metadata": {
    "ExecuteTime": {
     "end_time": "2022-08-18T22:54:23.227722Z",
     "start_time": "2022-08-18T22:54:22.979180Z"
    },
    "hidden": true
   },
   "outputs": [
    {
     "data": {
      "text/html": [
       "<div>\n",
       "<style scoped>\n",
       "    .dataframe tbody tr th:only-of-type {\n",
       "        vertical-align: middle;\n",
       "    }\n",
       "\n",
       "    .dataframe tbody tr th {\n",
       "        vertical-align: top;\n",
       "    }\n",
       "\n",
       "    .dataframe thead th {\n",
       "        text-align: right;\n",
       "    }\n",
       "</style>\n",
       "<table border=\"1\" class=\"dataframe\">\n",
       "  <thead>\n",
       "    <tr style=\"text-align: right;\">\n",
       "      <th>response</th>\n",
       "      <th>0</th>\n",
       "      <th>1</th>\n",
       "      <th>percentage</th>\n",
       "    </tr>\n",
       "    <tr>\n",
       "      <th>age_test</th>\n",
       "      <th></th>\n",
       "      <th></th>\n",
       "      <th></th>\n",
       "    </tr>\n",
       "  </thead>\n",
       "  <tbody>\n",
       "    <tr>\n",
       "      <th>over_36</th>\n",
       "      <td>155918</td>\n",
       "      <td>33313</td>\n",
       "      <td>0.176044</td>\n",
       "    </tr>\n",
       "    <tr>\n",
       "      <th>under_36</th>\n",
       "      <td>178481</td>\n",
       "      <td>13397</td>\n",
       "      <td>0.069820</td>\n",
       "    </tr>\n",
       "  </tbody>\n",
       "</table>\n",
       "</div>"
      ],
      "text/plain": [
       "response       0      1  percentage\n",
       "age_test                           \n",
       "over_36   155918  33313    0.176044\n",
       "under_36  178481  13397    0.069820"
      ]
     },
     "execution_count": 47,
     "metadata": {},
     "output_type": "execute_result"
    }
   ],
   "source": [
    "aux2 = df4.copy()\n",
    "aux2['age_test'] = aux2['age'].apply(lambda x: 'over_36' if x>36 else 'under_36')\n",
    "\n",
    "aux3 = pd.crosstab(aux2['age_test'], aux2['response'])\n",
    "aux3['percentage'] = aux3[1]/(aux3[1]+aux3[0])\n",
    "aux3"
   ]
  },
  {
   "cell_type": "markdown",
   "id": "5e240185",
   "metadata": {
    "heading_collapsed": true,
    "hidden": true
   },
   "source": [
    "### **6.** Customers with damaged vehicles are more interested in buy vehicle insurance\n",
    "**True** 24% of customers with damaged vehicle are interested vs 0.5% of customers whitout damage"
   ]
  },
  {
   "cell_type": "code",
   "execution_count": 48,
   "id": "485dfcb5",
   "metadata": {
    "ExecuteTime": {
     "end_time": "2022-08-18T22:54:23.273697Z",
     "start_time": "2022-08-18T22:54:23.231415Z"
    },
    "hidden": true
   },
   "outputs": [
    {
     "data": {
      "text/html": [
       "<div>\n",
       "<style scoped>\n",
       "    .dataframe tbody tr th:only-of-type {\n",
       "        vertical-align: middle;\n",
       "    }\n",
       "\n",
       "    .dataframe tbody tr th {\n",
       "        vertical-align: top;\n",
       "    }\n",
       "\n",
       "    .dataframe thead th {\n",
       "        text-align: right;\n",
       "    }\n",
       "</style>\n",
       "<table border=\"1\" class=\"dataframe\">\n",
       "  <thead>\n",
       "    <tr style=\"text-align: right;\">\n",
       "      <th></th>\n",
       "      <th>vehicle_damage</th>\n",
       "      <th>response</th>\n",
       "      <th>id</th>\n",
       "      <th>percentage</th>\n",
       "    </tr>\n",
       "  </thead>\n",
       "  <tbody>\n",
       "    <tr>\n",
       "      <th>0</th>\n",
       "      <td>0</td>\n",
       "      <td>982</td>\n",
       "      <td>188696</td>\n",
       "      <td>0.005204</td>\n",
       "    </tr>\n",
       "    <tr>\n",
       "      <th>1</th>\n",
       "      <td>1</td>\n",
       "      <td>45728</td>\n",
       "      <td>192413</td>\n",
       "      <td>0.237655</td>\n",
       "    </tr>\n",
       "  </tbody>\n",
       "</table>\n",
       "</div>"
      ],
      "text/plain": [
       "   vehicle_damage  response      id  percentage\n",
       "0               0       982  188696    0.005204\n",
       "1               1     45728  192413    0.237655"
      ]
     },
     "execution_count": 48,
     "metadata": {},
     "output_type": "execute_result"
    }
   ],
   "source": [
    "h6_1 = df4[['vehicle_damage', 'response']].groupby('vehicle_damage').sum().reset_index()\n",
    "h6_2 = df4[['id', 'vehicle_damage']].groupby('vehicle_damage').count().reset_index()\n",
    "h6_3 = pd.merge(h6_1, h6_2, on='vehicle_damage', how='left')\n",
    "h6_3['percentage'] = h6_3['response']/h6_3['id']\n",
    "h6_3"
   ]
  },
  {
   "cell_type": "code",
   "execution_count": 49,
   "id": "1d7c5ce5",
   "metadata": {
    "ExecuteTime": {
     "end_time": "2022-08-18T22:54:23.557616Z",
     "start_time": "2022-08-18T22:54:23.277987Z"
    },
    "hidden": true
   },
   "outputs": [
    {
     "data": {
      "image/png": "[encoded data removed]",
      "text/plain": [
       "<Figure size 1800x864 with 1 Axes>"
      ]
     },
     "metadata": {},
     "output_type": "display_data"
    }
   ],
   "source": [
    "sns.barplot(x='response', y='percentage', data=h6_3);"
   ]
  },
  {
   "cell_type": "markdown",
   "id": "7b019083",
   "metadata": {
    "heading_collapsed": true,
    "hidden": true
   },
   "source": [
    "### **7.** Customers with newer vehicles are more interested in buy vehicle insurance\n",
    "**True** 29% of customers with vechicles older than 2 years are interested vs 17% 1 to 2 year vs 4% under 1 year. PS: number of customers with vehicles within 1 to 2 years old is much greater"
   ]
  },
  {
   "cell_type": "code",
   "execution_count": 50,
   "id": "5ed31228",
   "metadata": {
    "ExecuteTime": {
     "end_time": "2022-08-18T22:54:23.633198Z",
     "start_time": "2022-08-18T22:54:23.560879Z"
    },
    "hidden": true
   },
   "outputs": [
    {
     "data": {
      "text/html": [
       "<div>\n",
       "<style scoped>\n",
       "    .dataframe tbody tr th:only-of-type {\n",
       "        vertical-align: middle;\n",
       "    }\n",
       "\n",
       "    .dataframe tbody tr th {\n",
       "        vertical-align: top;\n",
       "    }\n",
       "\n",
       "    .dataframe thead th {\n",
       "        text-align: right;\n",
       "    }\n",
       "</style>\n",
       "<table border=\"1\" class=\"dataframe\">\n",
       "  <thead>\n",
       "    <tr style=\"text-align: right;\">\n",
       "      <th></th>\n",
       "      <th>vehicle_age</th>\n",
       "      <th>response</th>\n",
       "      <th>id</th>\n",
       "      <th>percentage</th>\n",
       "    </tr>\n",
       "  </thead>\n",
       "  <tbody>\n",
       "    <tr>\n",
       "      <th>0</th>\n",
       "      <td>1_to_2_years</td>\n",
       "      <td>34806</td>\n",
       "      <td>200316</td>\n",
       "      <td>0.173755</td>\n",
       "    </tr>\n",
       "    <tr>\n",
       "      <th>1</th>\n",
       "      <td>below_1_year</td>\n",
       "      <td>7202</td>\n",
       "      <td>164786</td>\n",
       "      <td>0.043705</td>\n",
       "    </tr>\n",
       "    <tr>\n",
       "      <th>2</th>\n",
       "      <td>over_2_years</td>\n",
       "      <td>4702</td>\n",
       "      <td>16007</td>\n",
       "      <td>0.293746</td>\n",
       "    </tr>\n",
       "  </tbody>\n",
       "</table>\n",
       "</div>"
      ],
      "text/plain": [
       "    vehicle_age  response      id  percentage\n",
       "0  1_to_2_years     34806  200316    0.173755\n",
       "1  below_1_year      7202  164786    0.043705\n",
       "2  over_2_years      4702   16007    0.293746"
      ]
     },
     "execution_count": 50,
     "metadata": {},
     "output_type": "execute_result"
    }
   ],
   "source": [
    "h7_1 = df4[['vehicle_age', 'response']].groupby('vehicle_age').sum().reset_index()\n",
    "h7_2 = df4[['vehicle_age', 'id']].groupby('vehicle_age').count().reset_index()\n",
    "h7_3 = pd.merge(h7_1, h7_2, on='vehicle_age', how='left')\n",
    "h7_3['percentage'] = h7_3['response']/h7_3['id']\n",
    "h7_3"
   ]
  },
  {
   "cell_type": "code",
   "execution_count": 51,
   "id": "9ebc937d",
   "metadata": {
    "ExecuteTime": {
     "end_time": "2022-08-18T22:54:23.964389Z",
     "start_time": "2022-08-18T22:54:23.636336Z"
    },
    "hidden": true
   },
   "outputs": [
    {
     "data": {
      "image/png": "[encoded data removed]",
      "text/plain": [
       "<Figure size 1800x864 with 1 Axes>"
      ]
     },
     "metadata": {},
     "output_type": "display_data"
    }
   ],
   "source": [
    "sns.barplot(x='vehicle_age', y='percentage', data=h7_3);"
   ]
  },
  {
   "cell_type": "markdown",
   "id": "29c222bd",
   "metadata": {
    "heading_collapsed": true,
    "hidden": true
   },
   "source": [
    "### **8.** Customers without driver license have less interest in buy vehicle insurance\n",
    "**True** - 5% of customers without license are interested vs 12% of customers with license"
   ]
  },
  {
   "cell_type": "code",
   "execution_count": 52,
   "id": "5141290e",
   "metadata": {
    "ExecuteTime": {
     "end_time": "2022-08-18T22:54:24.017191Z",
     "start_time": "2022-08-18T22:54:23.968067Z"
    },
    "hidden": true
   },
   "outputs": [
    {
     "data": {
      "text/html": [
       "<div>\n",
       "<style scoped>\n",
       "    .dataframe tbody tr th:only-of-type {\n",
       "        vertical-align: middle;\n",
       "    }\n",
       "\n",
       "    .dataframe tbody tr th {\n",
       "        vertical-align: top;\n",
       "    }\n",
       "\n",
       "    .dataframe thead th {\n",
       "        text-align: right;\n",
       "    }\n",
       "</style>\n",
       "<table border=\"1\" class=\"dataframe\">\n",
       "  <thead>\n",
       "    <tr style=\"text-align: right;\">\n",
       "      <th>response</th>\n",
       "      <th>0</th>\n",
       "      <th>1</th>\n",
       "      <th>percentage</th>\n",
       "    </tr>\n",
       "    <tr>\n",
       "      <th>driving_license</th>\n",
       "      <th></th>\n",
       "      <th></th>\n",
       "      <th></th>\n",
       "    </tr>\n",
       "  </thead>\n",
       "  <tbody>\n",
       "    <tr>\n",
       "      <th>0</th>\n",
       "      <td>771</td>\n",
       "      <td>41</td>\n",
       "      <td>0.050493</td>\n",
       "    </tr>\n",
       "    <tr>\n",
       "      <th>1</th>\n",
       "      <td>333628</td>\n",
       "      <td>46669</td>\n",
       "      <td>0.122717</td>\n",
       "    </tr>\n",
       "  </tbody>\n",
       "</table>\n",
       "</div>"
      ],
      "text/plain": [
       "response              0      1  percentage\n",
       "driving_license                           \n",
       "0                   771     41    0.050493\n",
       "1                333628  46669    0.122717"
      ]
     },
     "execution_count": 52,
     "metadata": {},
     "output_type": "execute_result"
    }
   ],
   "source": [
    "h4 = pd.crosstab(df4['driving_license'], df4['response'])\n",
    "h4['percentage'] = h4[1]/(h4[1]+h4[0])\n",
    "h4"
   ]
  },
  {
   "cell_type": "markdown",
   "id": "4e40fba0",
   "metadata": {
    "heading_collapsed": true,
    "hidden": true
   },
   "source": [
    "### **9.** Customers region code have no influence in the interest they have in buying vehicle insurance\n",
    "**False** - There is influence"
   ]
  },
  {
   "cell_type": "code",
   "execution_count": 53,
   "id": "594ed0c8",
   "metadata": {
    "ExecuteTime": {
     "end_time": "2022-08-18T22:54:24.172774Z",
     "start_time": "2022-08-18T22:54:24.020640Z"
    },
    "hidden": true
   },
   "outputs": [
    {
     "data": {
      "text/html": [
       "<div>\n",
       "<style scoped>\n",
       "    .dataframe tbody tr th:only-of-type {\n",
       "        vertical-align: middle;\n",
       "    }\n",
       "\n",
       "    .dataframe tbody tr th {\n",
       "        vertical-align: top;\n",
       "    }\n",
       "\n",
       "    .dataframe thead th {\n",
       "        text-align: right;\n",
       "    }\n",
       "</style>\n",
       "<table border=\"1\" class=\"dataframe\">\n",
       "  <thead>\n",
       "    <tr style=\"text-align: right;\">\n",
       "      <th></th>\n",
       "      <th>region_code</th>\n",
       "      <th>response</th>\n",
       "      <th>id</th>\n",
       "      <th>percentage</th>\n",
       "    </tr>\n",
       "  </thead>\n",
       "  <tbody>\n",
       "    <tr>\n",
       "      <th>38</th>\n",
       "      <td>38</td>\n",
       "      <td>389</td>\n",
       "      <td>2026</td>\n",
       "      <td>0.192004</td>\n",
       "    </tr>\n",
       "    <tr>\n",
       "      <th>28</th>\n",
       "      <td>28</td>\n",
       "      <td>19917</td>\n",
       "      <td>106415</td>\n",
       "      <td>0.187163</td>\n",
       "    </tr>\n",
       "    <tr>\n",
       "      <th>19</th>\n",
       "      <td>19</td>\n",
       "      <td>250</td>\n",
       "      <td>1535</td>\n",
       "      <td>0.162866</td>\n",
       "    </tr>\n",
       "    <tr>\n",
       "      <th>4</th>\n",
       "      <td>4</td>\n",
       "      <td>285</td>\n",
       "      <td>1801</td>\n",
       "      <td>0.158245</td>\n",
       "    </tr>\n",
       "    <tr>\n",
       "      <th>23</th>\n",
       "      <td>23</td>\n",
       "      <td>300</td>\n",
       "      <td>1960</td>\n",
       "      <td>0.153061</td>\n",
       "    </tr>\n",
       "  </tbody>\n",
       "</table>\n",
       "</div>"
      ],
      "text/plain": [
       "    region_code  response      id  percentage\n",
       "38           38       389    2026    0.192004\n",
       "28           28     19917  106415    0.187163\n",
       "19           19       250    1535    0.162866\n",
       "4             4       285    1801    0.158245\n",
       "23           23       300    1960    0.153061"
      ]
     },
     "execution_count": 53,
     "metadata": {},
     "output_type": "execute_result"
    }
   ],
   "source": [
    "h9_1 = df4[['region_code', 'response']].groupby('region_code').sum().reset_index()\n",
    "h9_2 = df4[['region_code', 'id']].groupby('region_code').count().reset_index()\n",
    "h9_3 = pd.merge(h9_1, h9_2, on='region_code', how='left')\n",
    "h9_3['percentage'] = h9_3['response']/h9_3['id']\n",
    "h9_3.sort_values(by='percentage', ascending=False).head()"
   ]
  },
  {
   "cell_type": "code",
   "execution_count": 54,
   "id": "cdd8e981",
   "metadata": {
    "ExecuteTime": {
     "end_time": "2022-08-18T22:54:25.874185Z",
     "start_time": "2022-08-18T22:54:24.175794Z"
    },
    "hidden": true
   },
   "outputs": [
    {
     "data": {
      "image/png": "[encoded data removed]",
      "text/plain": [
       "<Figure size 1800x864 with 1 Axes>"
      ]
     },
     "metadata": {},
     "output_type": "display_data"
    }
   ],
   "source": [
    "sns.barplot(x='region_code', y='percentage', data=h9_3, order=h9_3.sort_values('percentage', ascending=False).region_code);"
   ]
  },
  {
   "cell_type": "markdown",
   "id": "8d97ad98",
   "metadata": {
    "heading_collapsed": true,
    "hidden": true
   },
   "source": [
    "### **10.** Customers policy_sales_channel have no influence in the interest they have in buying vehicle insurance\n",
    "**False** - There is influence"
   ]
  },
  {
   "cell_type": "code",
   "execution_count": 55,
   "id": "b4a66e81",
   "metadata": {
    "ExecuteTime": {
     "end_time": "2022-08-18T22:54:25.920136Z",
     "start_time": "2022-08-18T22:54:25.877432Z"
    },
    "hidden": true
   },
   "outputs": [
    {
     "data": {
      "text/html": [
       "<div>\n",
       "<style scoped>\n",
       "    .dataframe tbody tr th:only-of-type {\n",
       "        vertical-align: middle;\n",
       "    }\n",
       "\n",
       "    .dataframe tbody tr th {\n",
       "        vertical-align: top;\n",
       "    }\n",
       "\n",
       "    .dataframe thead th {\n",
       "        text-align: right;\n",
       "    }\n",
       "</style>\n",
       "<table border=\"1\" class=\"dataframe\">\n",
       "  <thead>\n",
       "    <tr style=\"text-align: right;\">\n",
       "      <th></th>\n",
       "      <th>policy_sales_channel</th>\n",
       "      <th>response</th>\n",
       "      <th>id</th>\n",
       "      <th>percentage</th>\n",
       "    </tr>\n",
       "  </thead>\n",
       "  <tbody>\n",
       "    <tr>\n",
       "      <th>118</th>\n",
       "      <td>123</td>\n",
       "      <td>1</td>\n",
       "      <td>1</td>\n",
       "      <td>1.000000</td>\n",
       "    </tr>\n",
       "    <tr>\n",
       "      <th>41</th>\n",
       "      <td>43</td>\n",
       "      <td>1</td>\n",
       "      <td>1</td>\n",
       "      <td>1.000000</td>\n",
       "    </tr>\n",
       "    <tr>\n",
       "      <th>25</th>\n",
       "      <td>27</td>\n",
       "      <td>1</td>\n",
       "      <td>3</td>\n",
       "      <td>0.333333</td>\n",
       "    </tr>\n",
       "    <tr>\n",
       "      <th>26</th>\n",
       "      <td>28</td>\n",
       "      <td>1</td>\n",
       "      <td>3</td>\n",
       "      <td>0.333333</td>\n",
       "    </tr>\n",
       "    <tr>\n",
       "      <th>34</th>\n",
       "      <td>36</td>\n",
       "      <td>17</td>\n",
       "      <td>52</td>\n",
       "      <td>0.326923</td>\n",
       "    </tr>\n",
       "  </tbody>\n",
       "</table>\n",
       "</div>"
      ],
      "text/plain": [
       "     policy_sales_channel  response  id  percentage\n",
       "118                   123         1   1    1.000000\n",
       "41                     43         1   1    1.000000\n",
       "25                     27         1   3    0.333333\n",
       "26                     28         1   3    0.333333\n",
       "34                     36        17  52    0.326923"
      ]
     },
     "execution_count": 55,
     "metadata": {},
     "output_type": "execute_result"
    }
   ],
   "source": [
    "h10_1 = df4[['policy_sales_channel', 'response']].groupby('policy_sales_channel').sum().reset_index()\n",
    "h10_2 = df4[['policy_sales_channel', 'id']].groupby('policy_sales_channel').count().reset_index()\n",
    "h10_3 = pd.merge(h10_1, h10_2, on='policy_sales_channel', how='left')\n",
    "h10_3['percentage'] = h10_3['response']/h10_3['id']\n",
    "h10_3.sort_values(by='percentage', ascending=False).head()"
   ]
  },
  {
   "cell_type": "code",
   "execution_count": 56,
   "id": "221d1af2",
   "metadata": {
    "ExecuteTime": {
     "end_time": "2022-08-18T22:54:30.043064Z",
     "start_time": "2022-08-18T22:54:25.924654Z"
    },
    "hidden": true
   },
   "outputs": [
    {
     "data": {
      "image/png": "[encoded data removed]",
      "text/plain": [
       "<Figure size 1800x864 with 1 Axes>"
      ]
     },
     "metadata": {},
     "output_type": "display_data"
    }
   ],
   "source": [
    "sns.barplot(x='policy_sales_channel', y='percentage', data=h10_3, order=h10_3.sort_values('percentage', ascending=False).policy_sales_channel);"
   ]
  },
  {
   "cell_type": "markdown",
   "id": "48e4d1c8",
   "metadata": {
    "heading_collapsed": true,
    "hidden": true
   },
   "source": [
    "### 4.2.1. Summary of Hypotesis"
   ]
  },
  {
   "cell_type": "code",
   "execution_count": 57,
   "id": "78a1baf0",
   "metadata": {
    "ExecuteTime": {
     "end_time": "2022-08-18T22:54:30.056712Z",
     "start_time": "2022-08-18T22:54:30.045961Z"
    },
    "hidden": true
   },
   "outputs": [
    {
     "name": "stdout",
     "output_type": "stream",
     "text": [
      "Hypotesis    Conclusion    Relevance\n",
      "-----------  ------------  -----------\n",
      "H1           True          Medium\n",
      "H2           True          Medium\n",
      "H3           False         Medium\n",
      "H4           False         Medium\n",
      "H5           True          High\n",
      "H6           True          High\n",
      "H7           True          Medium\n",
      "H8           True          High\n",
      "H9           False         High\n",
      "H10          False         Medium\n"
     ]
    }
   ],
   "source": [
    "tab = [['Hypotesis', 'Conclusion', 'Relevance'],\n",
    "       ['H1', 'True', 'Medium'],\n",
    "       ['H2', 'True', 'Medium'],\n",
    "       ['H3', 'False', 'Medium'],\n",
    "       ['H4', 'False', 'Medium'],\n",
    "       ['H5', 'True', 'High'],\n",
    "       ['H6', 'True', 'High'],\n",
    "       ['H7', 'True', 'Medium'],\n",
    "       ['H8', 'True', 'High'],\n",
    "       ['H9', 'False', 'High'],\n",
    "       ['H10', 'False', 'Medium']]\n",
    "print(tabulate(tab, headers='firstrow'))\n"
   ]
  },
  {
   "cell_type": "markdown",
   "id": "373882e0",
   "metadata": {
    "hidden": true
   },
   "source": [
    "## 4.3. Multivariate Analysis"
   ]
  },
  {
   "cell_type": "markdown",
   "id": "f9ba1ea3",
   "metadata": {
    "heading_collapsed": true,
    "hidden": true
   },
   "source": [
    "### 4.3.1. Numerical Attributes"
   ]
  },
  {
   "cell_type": "code",
   "execution_count": 58,
   "id": "86cd0d97",
   "metadata": {
    "ExecuteTime": {
     "end_time": "2022-08-18T22:56:06.027642Z",
     "start_time": "2022-08-18T22:56:05.663131Z"
    },
    "hidden": true
   },
   "outputs": [
    {
     "data": {
      "image/png": "[encoded data removed]",
      "text/plain": [
       "<Figure size 1800x864 with 2 Axes>"
      ]
     },
     "metadata": {},
     "output_type": "display_data"
    }
   ],
   "source": [
    "correlation = num_attributes.corr(method='pearson')\n",
    "sns.heatmap(correlation, annot=True);"
   ]
  },
  {
   "cell_type": "markdown",
   "id": "c141845b",
   "metadata": {
    "heading_collapsed": true,
    "hidden": true
   },
   "source": [
    "### 4.3.2. Categorical Attributes"
   ]
  },
  {
   "cell_type": "code",
   "execution_count": 63,
   "id": "49de17c0",
   "metadata": {
    "ExecuteTime": {
     "end_time": "2022-08-18T23:16:36.209261Z",
     "start_time": "2022-08-18T23:16:32.952324Z"
    },
    "hidden": true
   },
   "outputs": [
    {
     "data": {
      "image/png": "[encoded data removed]",
      "text/plain": [
       "<Figure size 1800x864 with 2 Axes>"
      ]
     },
     "metadata": {},
     "output_type": "display_data"
    }
   ],
   "source": [
    "sns.heatmap(pd.DataFrame(corr_cramer_v(cat_attributes)), annot=True);"
   ]
  },
  {
   "cell_type": "markdown",
   "id": "41410b59",
   "metadata": {},
   "source": [
    "# 5. DATA PREPARATION"
   ]
  }
 ],
 "metadata": {
  "kernelspec": {
   "display_name": ".insurance_cross_sell",
   "language": "python",
   "name": ".insurance_cross_sell"
  },
  "language_info": {
   "codemirror_mode": {
    "name": "ipython",
    "version": 3
   },
   "file_extension": ".py",
   "mimetype": "text/x-python",
   "name": "python",
   "nbconvert_exporter": "python",
   "pygments_lexer": "ipython3",
   "version": "3.10.4"
  }
 },
 "nbformat": 4,
 "nbformat_minor": 5
}
